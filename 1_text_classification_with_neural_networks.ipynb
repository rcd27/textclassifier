{
  "nbformat": 4,
  "nbformat_minor": 0,
  "metadata": {
    "colab": {
      "provenance": [],
      "toc_visible": true,
      "authorship_tag": "ABX9TyO/rDZBvzzkdoBI+hiTc/zu",
      "include_colab_link": true
    },
    "kernelspec": {
      "name": "python3",
      "display_name": "Python 3"
    },
    "language_info": {
      "name": "python"
    }
  },
  "cells": [
    {
      "cell_type": "markdown",
      "metadata": {
        "id": "view-in-github",
        "colab_type": "text"
      },
      "source": [
        "<a href=\"https://colab.research.google.com/github/rcd27/textclassifier/blob/master/1_text_classification_with_neural_networks.ipynb\" target=\"_parent\"><img src=\"https://colab.research.google.com/assets/colab-badge.svg\" alt=\"Open In Colab\"/></a>"
      ]
    },
    {
      "cell_type": "markdown",
      "source": [
        "### Вводная"
      ],
      "metadata": {
        "id": "DrFwhAGUwZeS"
      }
    },
    {
      "cell_type": "code",
      "execution_count": 1,
      "metadata": {
        "id": "_Jh6DaGcWQGV"
      },
      "outputs": [],
      "source": [
        "from keras.preprocessing.text import Tokenizer"
      ]
    },
    {
      "cell_type": "code",
      "source": [
        "# TODO: russian text\n",
        "documents = [\n",
        "    'The quick brown fox',\n",
        "    'Jumps over $$$ the lazy brown dog',\n",
        "    'Who jumps high into the blue sky after counting 123',\n",
        "    'And quickly returns to earth'\n",
        "]\n",
        " \n",
        "tokenizer = Tokenizer()\n",
        "\n",
        "# Создаёт словарь(внутренний у себя там) со всеми словами\n",
        "tokenizer.fit_on_texts(documents)\n",
        "\n",
        "# Просто лист листов с индексами(где вложенный лист - строка)\n",
        "sequences = tokenizer.texts_to_sequences(documents)\n",
        "\n",
        "print(sequences)"
      ],
      "metadata": {
        "colab": {
          "base_uri": "https://localhost:8080/"
        },
        "id": "CQza-vr2Xrez",
        "outputId": "f80ce921-b052-47c9-9ab2-5416f11381ad"
      },
      "execution_count": 2,
      "outputs": [
        {
          "output_type": "stream",
          "name": "stdout",
          "text": [
            "[[1, 4, 2, 5], [3, 6, 1, 7, 2, 8], [9, 3, 10, 11, 1, 12, 13, 14, 15, 16], [17, 18, 19, 20, 21]]\n"
          ]
        }
      ]
    },
    {
      "cell_type": "markdown",
      "source": [
        "Но эти приёмы не удаляют \"стоп-слова\" или числа(короче всякий мусор). Если хотим почистить, то можно использовать Natural Language Toolkit(https://www.nltk.org/)"
      ],
      "metadata": {
        "id": "enO8yTruY1TV"
      }
    },
    {
      "cell_type": "code",
      "source": [
        "from nltk.tokenize import word_tokenize\n",
        "from nltk.corpus import stopwords\n",
        "\n",
        "import nltk\n",
        "nltk.download('punkt')\n",
        "nltk.download('stopwords')"
      ],
      "metadata": {
        "colab": {
          "base_uri": "https://localhost:8080/"
        },
        "id": "fKpdggLOYvu-",
        "outputId": "aed6f7da-9ad0-4410-e84f-42c513b4780a"
      },
      "execution_count": 3,
      "outputs": [
        {
          "output_type": "stream",
          "name": "stderr",
          "text": [
            "[nltk_data] Downloading package punkt to /root/nltk_data...\n",
            "[nltk_data]   Unzipping tokenizers/punkt.zip.\n",
            "[nltk_data] Downloading package stopwords to /root/nltk_data...\n",
            "[nltk_data]   Unzipping corpora/stopwords.zip.\n"
          ]
        },
        {
          "output_type": "execute_result",
          "data": {
            "text/plain": [
              "True"
            ]
          },
          "metadata": {},
          "execution_count": 3
        }
      ]
    },
    {
      "cell_type": "code",
      "source": [
        "def remove_stop_words(text):\n",
        "    text = word_tokenize(text.lower())\n",
        "    stop_words = set(stopwords.words('english')) # TODO: russian\n",
        "    text = [word for word in text if word.isalpha() and not word in stop_words]\n",
        "    return ' '.join(text)"
      ],
      "metadata": {
        "id": "mX2euwTyY0eQ"
      },
      "execution_count": 4,
      "outputs": []
    },
    {
      "cell_type": "code",
      "source": [
        "documents_without_stop_words = list(map(remove_stop_words, documents))\n",
        "tokenizer_no_stop_words = Tokenizer()\n",
        "tokenizer_no_stop_words.fit_on_texts(documents_without_stop_words)\n",
        "filtered_sequenses = tokenizer_no_stop_words.texts_to_sequences(documents_without_stop_words)\n",
        "\n",
        "print(filtered_sequenses)"
      ],
      "metadata": {
        "colab": {
          "base_uri": "https://localhost:8080/"
        },
        "id": "j_XURf_PaYFk",
        "outputId": "16ad8882-0b42-472d-e0c3-8a916161cdb5"
      },
      "execution_count": 5,
      "outputs": [
        {
          "output_type": "stream",
          "name": "stdout",
          "text": [
            "[[3, 1, 4], [2, 5, 1, 6], [2, 7, 8, 9, 10], [11, 12, 13]]\n"
          ]
        }
      ]
    },
    {
      "cell_type": "markdown",
      "source": [
        "Длина получившихся \"строк\" массивов - разная, но нейронке на вход нужны \"одинаковые\". Для этого юзанём `pad_sequences` из `Keras`."
      ],
      "metadata": {
        "id": "GALLfEjccb1e"
      }
    },
    {
      "cell_type": "code",
      "source": [
        "from keras.utils import pad_sequences\n",
        "\n",
        "padded_sequences = pad_sequences(filtered_sequenses, maxlen=4)\n",
        "print(padded_sequences)"
      ],
      "metadata": {
        "colab": {
          "base_uri": "https://localhost:8080/"
        },
        "id": "k-tW4HKtca7g",
        "outputId": "24f91120-bcbb-4633-fd58-2931558443e5"
      },
      "execution_count": 6,
      "outputs": [
        {
          "output_type": "stream",
          "name": "stdout",
          "text": [
            "[[ 0  3  1  4]\n",
            " [ 2  5  1  6]\n",
            " [ 7  8  9 10]\n",
            " [ 0 11 12 13]]\n"
          ]
        }
      ]
    },
    {
      "cell_type": "markdown",
      "source": [
        "Как только текст токенизирован и разбит на выравненные последовательности, он готов для того, чтобы тренировать нейронку.\n",
        "\n",
        "Первый слой, который классифицирует текст - [embedding layer](https://machinelearningmastery.com/use-word-embedding-layers-deep-learning-keras/). Его задача конвертнуть выровненные последовательности индексов слов в массивы [векторов слов](https://dzone.com/articles/introduction-to-word-vectors). Эти вектора представляют слова в виде дробных чисел, а не интов. Таким образом(если мы анализируем эмоциональную окраску), слова типа \"восхитительно\" или \"замечательно\" для нейронки на вход становятся \"близкими по значению\". В керасе для таких движух есть готовый класс `Embedding`"
      ],
      "metadata": {
        "id": "ZN8xwCm8hjNd"
      }
    },
    {
      "cell_type": "code",
      "source": [
        "from keras.models import Sequential\n",
        "from keras.layers import Dense, Flatten\n",
        "from keras.layers import Embedding\n",
        "\n",
        "model = Sequential() \n",
        "# {размер словаря, количество измерений, длина входящих последовательностей}\n",
        "model.add(Embedding(10000, 32, input_length=100)) \n",
        "model.add(Flatten())\n",
        "model.add(Dense(128, activation='relu'))\n",
        "model.add(Dense(1, activation='sigmoid'))\n",
        "model.compile(optimizer='adam', loss='binary_crossentropy', metrics=['accuracy'])"
      ],
      "metadata": {
        "id": "u3y-iQYAi4p9"
      },
      "execution_count": 7,
      "outputs": []
    },
    {
      "cell_type": "markdown",
      "source": [
        "Каждое слово енкодиться в выбранное количество измерений(второй аргумент функции) Для каждой последовательности, выходные данные из `embedding layer` - 2D матрица дробных чисел m*n. Каждая \"строка\" входного массива конвертируется в массив слов-векторов. Слой `Flatten` всхлопывает 2D матрицу в 1D массив, подходящий для слоя `Dense`, который в свою очередь уже занимается классификацией. Можно экспериментировать с разным числом для размерности(dimensions) и длин в `embedding layer`, разным количеством нейронов в `dense` слое для повышения точности(accuracy). Также можно добавить больше `dense` слоёв.\n",
        "\n",
        "Векторы, олицетворяющие отдельные слова в `embedding layer` \"изучаются\" в процессе тренировки модели, таким же образом как и веса в `dense layer`. Если количество данных для тренировки существенно велико, то результат тренировки такой модели показывает довольно высокую точность в переводе слов в векторы. В случае, если для тренировки используется несколько сотен текстов, то как бы потом не удивляйтесь.\n",
        "\n",
        "В таком случае(малого количества входных данных), можно использовать претренированные `word embeddings` для `embedding` слоя. Существует несколько таких претренированных эмбеддингов ([GloVe](https://nlp.stanford.edu/projects/glove/) например). Эти модели служат для определения семантических связей между словами. Например \"король\" и \"королева\" как бы относящиеся друг другу по смыслу. В то время, как \"зебра\" и \"лестница\" - нет. Но так как классификация текста - довольно специфическая, узконаправленная задача, то натренированные вручную модели зачастую работают лучше(от Стсн.: то есть, надо понмать, если мы хотим для Игоря добавить тэг \"технический вопрос\", то нейронку нужно тренировать самим, причём использовать для этого дата-сет из сообщений, которые пишут _ему_) см: [использование pre-trained word embeddings](https://keras.io/examples/nlp/pretrained_word_embeddings/)"
      ],
      "metadata": {
        "id": "XVrBkaQHosRF"
      }
    },
    {
      "cell_type": "markdown",
      "source": [
        "#### Классификация текста, вышедшего из `Embedding Layer`"
      ],
      "metadata": {
        "id": "1z0YWS6csYYg"
      }
    },
    {
      "cell_type": "markdown",
      "source": [
        "Одним из недостатков классификации предыдущего \"выхода\" из embedding layer в dense layer - последний воспринимет слова независимо, не учитывая среднюю температуру по больнице. Если слова типа \"кредитная\" \"карта\" \"долг\" повышают шанс, что текст - спам про чё-то типа получите изи деньги, то dense layer'у на это похую, он не берёт во внимание такие \"мелочи\" лол.\n",
        "\n",
        "Одним из приёмов обхода данного недоразумения может быть замена dense слоёв на [Conv1D](https://keras.io/api/layers/convolution_layers/convolution1d/) и [MaxPooling1D](https://keras.io/api/layers/pooling_layers/max_pooling1d/), что как бы делает из нашей нейронки `convolutional neural network`, CNN. CNN широко используются для классификации изображений. То также находят своё применение и в классификации текста."
      ],
      "metadata": {
        "id": "Wa-0rX_QsyJu"
      }
    },
    {
      "cell_type": "code",
      "source": [
        "from keras.models import Sequential\n",
        "from keras.layers import Dense, Conv1D, MaxPooling1D, GlobalMaxPooling1D\n",
        "from keras.layers import Embedding\n",
        " \n",
        "model = Sequential()\n",
        "model.add(Embedding(10000, 32, input_length=100))\n",
        "model.add(Conv1D(32, 7, activation='relu'))\n",
        "model.add(MaxPooling1D(5))\n",
        "model.add(Conv1D(32, 7, activation='relu'))\n",
        "model.add(GlobalMaxPooling1D())\n",
        "model.add(Dense(1, activation='sigmoid'))\n",
        "model.compile(optimizer='adam', loss='binary_crossentropy', metrics=['accuracy'])"
      ],
      "metadata": {
        "id": "ClnzMRqAuQ4B"
      },
      "execution_count": 8,
      "outputs": []
    },
    {
      "cell_type": "markdown",
      "source": [
        "Вместо того, чтобы оценивать слова по-отдельности, `Conv1D` слои берут слайсы по 7 слов. `MaxPooling1D` снижает размерность предыдующего вывода (первого `Conv1D`) с тем, чтобы \"подсветить\" важные элементы. Более подробно описано в следующей статье, но сейчас достаточно впитать факт, что такая простая сиэнэнка даёт более акууратные результаты в классификации текста, нежели предыдующая c `Dense` слоем."
      ],
      "metadata": {
        "id": "MNSKpaEOunhl"
      }
    },
    {
      "cell_type": "markdown",
      "source": [
        "Другим вариком является добавление [long-short-term memory](https://en.wikipedia.org/wiki/Long_short-term_memory) слоёв (см. [LSTM](https://keras.io/api/layers/recurrent_layers/lstm/). Это делает из нейронки [recurrent neural network](https://en.wikipedia.org/wiki/Recurrent_neural_network), иначе говоря RNN. Такие нейронки тоже неплохо справляются с классификацией текста (также гуд как CNN), но их дольше тренировать\n"
      ],
      "metadata": {
        "id": "DQUw4nTpvVHi"
      }
    },
    {
      "cell_type": "markdown",
      "source": [
        "### А щас короче напишем нейронку, которая детектит спам"
      ],
      "metadata": {
        "id": "Fg_8B9KSv415"
      }
    },
    {
      "cell_type": "markdown",
      "source": [
        "https://raw.githubusercontent.com/jeffprosise/Deep-Learning/master/Data/ham-spam.csv"
      ],
      "metadata": {
        "id": "Hcbcoxftxlx6"
      }
    },
    {
      "cell_type": "code",
      "source": [
        "import keras.utils\n",
        "\n",
        "dataset_url = \"https://raw.githubusercontent.com/jeffprosise/Deep-Learning/master/Data/ham-spam.csv\"\n",
        "data_dir = keras.utils.get_file(origin=dataset_url,\n",
        "                                   fname='ham-spam.csv')"
      ],
      "metadata": {
        "id": "x1hEZS30Fx2C",
        "outputId": "58135c2c-6e51-4906-e026-623cf15b62cd",
        "colab": {
          "base_uri": "https://localhost:8080/"
        }
      },
      "execution_count": 9,
      "outputs": [
        {
          "output_type": "stream",
          "name": "stdout",
          "text": [
            "Downloading data from https://raw.githubusercontent.com/jeffprosise/Deep-Learning/master/Data/ham-spam.csv\n",
            "1030970/1030970 [==============================] - 0s 0us/step\n"
          ]
        }
      ]
    },
    {
      "cell_type": "code",
      "source": [
        "import pandas as pd\n",
        " \n",
        "df = pd.read_csv(data_dir)\n",
        "df.head()"
      ],
      "metadata": {
        "colab": {
          "base_uri": "https://localhost:8080/",
          "height": 206
        },
        "id": "dZJ6CIyiwS98",
        "outputId": "3538985f-d11b-47da-d137-36f9816b3af4"
      },
      "execution_count": 10,
      "outputs": [
        {
          "output_type": "execute_result",
          "data": {
            "text/plain": [
              "   IsSpam                                               Text\n",
              "0       0  key issues going forwarda year end reviews rep...\n",
              "1       0  congrats contratulations the execution the cen...\n",
              "2       0   key issues going forwardall under control set...\n",
              "3       0  epmi files protest entergy transcoattached our...\n",
              "4       0  california power please contact kristin walsh ..."
            ],
            "text/html": [
              "\n",
              "  <div id=\"df-ff88ecd1-262a-471b-8171-3652a3ccd2bd\">\n",
              "    <div class=\"colab-df-container\">\n",
              "      <div>\n",
              "<style scoped>\n",
              "    .dataframe tbody tr th:only-of-type {\n",
              "        vertical-align: middle;\n",
              "    }\n",
              "\n",
              "    .dataframe tbody tr th {\n",
              "        vertical-align: top;\n",
              "    }\n",
              "\n",
              "    .dataframe thead th {\n",
              "        text-align: right;\n",
              "    }\n",
              "</style>\n",
              "<table border=\"1\" class=\"dataframe\">\n",
              "  <thead>\n",
              "    <tr style=\"text-align: right;\">\n",
              "      <th></th>\n",
              "      <th>IsSpam</th>\n",
              "      <th>Text</th>\n",
              "    </tr>\n",
              "  </thead>\n",
              "  <tbody>\n",
              "    <tr>\n",
              "      <th>0</th>\n",
              "      <td>0</td>\n",
              "      <td>key issues going forwarda year end reviews rep...</td>\n",
              "    </tr>\n",
              "    <tr>\n",
              "      <th>1</th>\n",
              "      <td>0</td>\n",
              "      <td>congrats contratulations the execution the cen...</td>\n",
              "    </tr>\n",
              "    <tr>\n",
              "      <th>2</th>\n",
              "      <td>0</td>\n",
              "      <td>key issues going forwardall under control set...</td>\n",
              "    </tr>\n",
              "    <tr>\n",
              "      <th>3</th>\n",
              "      <td>0</td>\n",
              "      <td>epmi files protest entergy transcoattached our...</td>\n",
              "    </tr>\n",
              "    <tr>\n",
              "      <th>4</th>\n",
              "      <td>0</td>\n",
              "      <td>california power please contact kristin walsh ...</td>\n",
              "    </tr>\n",
              "  </tbody>\n",
              "</table>\n",
              "</div>\n",
              "      <button class=\"colab-df-convert\" onclick=\"convertToInteractive('df-ff88ecd1-262a-471b-8171-3652a3ccd2bd')\"\n",
              "              title=\"Convert this dataframe to an interactive table.\"\n",
              "              style=\"display:none;\">\n",
              "        \n",
              "  <svg xmlns=\"http://www.w3.org/2000/svg\" height=\"24px\"viewBox=\"0 0 24 24\"\n",
              "       width=\"24px\">\n",
              "    <path d=\"M0 0h24v24H0V0z\" fill=\"none\"/>\n",
              "    <path d=\"M18.56 5.44l.94 2.06.94-2.06 2.06-.94-2.06-.94-.94-2.06-.94 2.06-2.06.94zm-11 1L8.5 8.5l.94-2.06 2.06-.94-2.06-.94L8.5 2.5l-.94 2.06-2.06.94zm10 10l.94 2.06.94-2.06 2.06-.94-2.06-.94-.94-2.06-.94 2.06-2.06.94z\"/><path d=\"M17.41 7.96l-1.37-1.37c-.4-.4-.92-.59-1.43-.59-.52 0-1.04.2-1.43.59L10.3 9.45l-7.72 7.72c-.78.78-.78 2.05 0 2.83L4 21.41c.39.39.9.59 1.41.59.51 0 1.02-.2 1.41-.59l7.78-7.78 2.81-2.81c.8-.78.8-2.07 0-2.86zM5.41 20L4 18.59l7.72-7.72 1.47 1.35L5.41 20z\"/>\n",
              "  </svg>\n",
              "      </button>\n",
              "      \n",
              "  <style>\n",
              "    .colab-df-container {\n",
              "      display:flex;\n",
              "      flex-wrap:wrap;\n",
              "      gap: 12px;\n",
              "    }\n",
              "\n",
              "    .colab-df-convert {\n",
              "      background-color: #E8F0FE;\n",
              "      border: none;\n",
              "      border-radius: 50%;\n",
              "      cursor: pointer;\n",
              "      display: none;\n",
              "      fill: #1967D2;\n",
              "      height: 32px;\n",
              "      padding: 0 0 0 0;\n",
              "      width: 32px;\n",
              "    }\n",
              "\n",
              "    .colab-df-convert:hover {\n",
              "      background-color: #E2EBFA;\n",
              "      box-shadow: 0px 1px 2px rgba(60, 64, 67, 0.3), 0px 1px 3px 1px rgba(60, 64, 67, 0.15);\n",
              "      fill: #174EA6;\n",
              "    }\n",
              "\n",
              "    [theme=dark] .colab-df-convert {\n",
              "      background-color: #3B4455;\n",
              "      fill: #D2E3FC;\n",
              "    }\n",
              "\n",
              "    [theme=dark] .colab-df-convert:hover {\n",
              "      background-color: #434B5C;\n",
              "      box-shadow: 0px 1px 3px 1px rgba(0, 0, 0, 0.15);\n",
              "      filter: drop-shadow(0px 1px 2px rgba(0, 0, 0, 0.3));\n",
              "      fill: #FFFFFF;\n",
              "    }\n",
              "  </style>\n",
              "\n",
              "      <script>\n",
              "        const buttonEl =\n",
              "          document.querySelector('#df-ff88ecd1-262a-471b-8171-3652a3ccd2bd button.colab-df-convert');\n",
              "        buttonEl.style.display =\n",
              "          google.colab.kernel.accessAllowed ? 'block' : 'none';\n",
              "\n",
              "        async function convertToInteractive(key) {\n",
              "          const element = document.querySelector('#df-ff88ecd1-262a-471b-8171-3652a3ccd2bd');\n",
              "          const dataTable =\n",
              "            await google.colab.kernel.invokeFunction('convertToInteractive',\n",
              "                                                     [key], {});\n",
              "          if (!dataTable) return;\n",
              "\n",
              "          const docLinkHtml = 'Like what you see? Visit the ' +\n",
              "            '<a target=\"_blank\" href=https://colab.research.google.com/notebooks/data_table.ipynb>data table notebook</a>'\n",
              "            + ' to learn more about interactive tables.';\n",
              "          element.innerHTML = '';\n",
              "          dataTable['output_type'] = 'display_data';\n",
              "          await google.colab.output.renderOutput(dataTable, element);\n",
              "          const docLink = document.createElement('div');\n",
              "          docLink.innerHTML = docLinkHtml;\n",
              "          element.appendChild(docLink);\n",
              "        }\n",
              "      </script>\n",
              "    </div>\n",
              "  </div>\n",
              "  "
            ]
          },
          "metadata": {},
          "execution_count": 10
        }
      ]
    },
    {
      "cell_type": "code",
      "source": [
        "# Убираем дупликаты\n",
        "df = df.drop_duplicates()\n",
        "df.groupby('IsSpam').describe()"
      ],
      "metadata": {
        "colab": {
          "base_uri": "https://localhost:8080/",
          "height": 175
        },
        "id": "IT4uPkgdyFFT",
        "outputId": "7aa23942-46fe-4fb8-bac9-4278bbc9c3b7"
      },
      "execution_count": 11,
      "outputs": [
        {
          "output_type": "execute_result",
          "data": {
            "text/plain": [
              "        Text                                                               \n",
              "       count unique                                                top freq\n",
              "IsSpam                                                                     \n",
              "0        499    499  key issues going forwarda year end reviews rep...    1\n",
              "1        500    500  take the reinsbecomeyour employer substantial ...    1"
            ],
            "text/html": [
              "\n",
              "  <div id=\"df-6b40b586-a8ab-479f-9cdf-e50243b0b3a0\">\n",
              "    <div class=\"colab-df-container\">\n",
              "      <div>\n",
              "<style scoped>\n",
              "    .dataframe tbody tr th:only-of-type {\n",
              "        vertical-align: middle;\n",
              "    }\n",
              "\n",
              "    .dataframe tbody tr th {\n",
              "        vertical-align: top;\n",
              "    }\n",
              "\n",
              "    .dataframe thead tr th {\n",
              "        text-align: left;\n",
              "    }\n",
              "\n",
              "    .dataframe thead tr:last-of-type th {\n",
              "        text-align: right;\n",
              "    }\n",
              "</style>\n",
              "<table border=\"1\" class=\"dataframe\">\n",
              "  <thead>\n",
              "    <tr>\n",
              "      <th></th>\n",
              "      <th colspan=\"4\" halign=\"left\">Text</th>\n",
              "    </tr>\n",
              "    <tr>\n",
              "      <th></th>\n",
              "      <th>count</th>\n",
              "      <th>unique</th>\n",
              "      <th>top</th>\n",
              "      <th>freq</th>\n",
              "    </tr>\n",
              "    <tr>\n",
              "      <th>IsSpam</th>\n",
              "      <th></th>\n",
              "      <th></th>\n",
              "      <th></th>\n",
              "      <th></th>\n",
              "    </tr>\n",
              "  </thead>\n",
              "  <tbody>\n",
              "    <tr>\n",
              "      <th>0</th>\n",
              "      <td>499</td>\n",
              "      <td>499</td>\n",
              "      <td>key issues going forwarda year end reviews rep...</td>\n",
              "      <td>1</td>\n",
              "    </tr>\n",
              "    <tr>\n",
              "      <th>1</th>\n",
              "      <td>500</td>\n",
              "      <td>500</td>\n",
              "      <td>take the reinsbecomeyour employer substantial ...</td>\n",
              "      <td>1</td>\n",
              "    </tr>\n",
              "  </tbody>\n",
              "</table>\n",
              "</div>\n",
              "      <button class=\"colab-df-convert\" onclick=\"convertToInteractive('df-6b40b586-a8ab-479f-9cdf-e50243b0b3a0')\"\n",
              "              title=\"Convert this dataframe to an interactive table.\"\n",
              "              style=\"display:none;\">\n",
              "        \n",
              "  <svg xmlns=\"http://www.w3.org/2000/svg\" height=\"24px\"viewBox=\"0 0 24 24\"\n",
              "       width=\"24px\">\n",
              "    <path d=\"M0 0h24v24H0V0z\" fill=\"none\"/>\n",
              "    <path d=\"M18.56 5.44l.94 2.06.94-2.06 2.06-.94-2.06-.94-.94-2.06-.94 2.06-2.06.94zm-11 1L8.5 8.5l.94-2.06 2.06-.94-2.06-.94L8.5 2.5l-.94 2.06-2.06.94zm10 10l.94 2.06.94-2.06 2.06-.94-2.06-.94-.94-2.06-.94 2.06-2.06.94z\"/><path d=\"M17.41 7.96l-1.37-1.37c-.4-.4-.92-.59-1.43-.59-.52 0-1.04.2-1.43.59L10.3 9.45l-7.72 7.72c-.78.78-.78 2.05 0 2.83L4 21.41c.39.39.9.59 1.41.59.51 0 1.02-.2 1.41-.59l7.78-7.78 2.81-2.81c.8-.78.8-2.07 0-2.86zM5.41 20L4 18.59l7.72-7.72 1.47 1.35L5.41 20z\"/>\n",
              "  </svg>\n",
              "      </button>\n",
              "      \n",
              "  <style>\n",
              "    .colab-df-container {\n",
              "      display:flex;\n",
              "      flex-wrap:wrap;\n",
              "      gap: 12px;\n",
              "    }\n",
              "\n",
              "    .colab-df-convert {\n",
              "      background-color: #E8F0FE;\n",
              "      border: none;\n",
              "      border-radius: 50%;\n",
              "      cursor: pointer;\n",
              "      display: none;\n",
              "      fill: #1967D2;\n",
              "      height: 32px;\n",
              "      padding: 0 0 0 0;\n",
              "      width: 32px;\n",
              "    }\n",
              "\n",
              "    .colab-df-convert:hover {\n",
              "      background-color: #E2EBFA;\n",
              "      box-shadow: 0px 1px 2px rgba(60, 64, 67, 0.3), 0px 1px 3px 1px rgba(60, 64, 67, 0.15);\n",
              "      fill: #174EA6;\n",
              "    }\n",
              "\n",
              "    [theme=dark] .colab-df-convert {\n",
              "      background-color: #3B4455;\n",
              "      fill: #D2E3FC;\n",
              "    }\n",
              "\n",
              "    [theme=dark] .colab-df-convert:hover {\n",
              "      background-color: #434B5C;\n",
              "      box-shadow: 0px 1px 3px 1px rgba(0, 0, 0, 0.15);\n",
              "      filter: drop-shadow(0px 1px 2px rgba(0, 0, 0, 0.3));\n",
              "      fill: #FFFFFF;\n",
              "    }\n",
              "  </style>\n",
              "\n",
              "      <script>\n",
              "        const buttonEl =\n",
              "          document.querySelector('#df-6b40b586-a8ab-479f-9cdf-e50243b0b3a0 button.colab-df-convert');\n",
              "        buttonEl.style.display =\n",
              "          google.colab.kernel.accessAllowed ? 'block' : 'none';\n",
              "\n",
              "        async function convertToInteractive(key) {\n",
              "          const element = document.querySelector('#df-6b40b586-a8ab-479f-9cdf-e50243b0b3a0');\n",
              "          const dataTable =\n",
              "            await google.colab.kernel.invokeFunction('convertToInteractive',\n",
              "                                                     [key], {});\n",
              "          if (!dataTable) return;\n",
              "\n",
              "          const docLinkHtml = 'Like what you see? Visit the ' +\n",
              "            '<a target=\"_blank\" href=https://colab.research.google.com/notebooks/data_table.ipynb>data table notebook</a>'\n",
              "            + ' to learn more about interactive tables.';\n",
              "          element.innerHTML = '';\n",
              "          dataTable['output_type'] = 'display_data';\n",
              "          await google.colab.output.renderOutput(dataTable, element);\n",
              "          const docLink = document.createElement('div');\n",
              "          docLink.innerHTML = docLinkHtml;\n",
              "          element.appendChild(docLink);\n",
              "        }\n",
              "      </script>\n",
              "    </div>\n",
              "  </div>\n",
              "  "
            ]
          },
          "metadata": {},
          "execution_count": 11
        }
      ]
    },
    {
      "cell_type": "code",
      "source": [
        "x_filtered_stop_words = df.apply(lambda row: remove_stop_words(row['Text']), axis=1)\n",
        "y = df['IsSpam']"
      ],
      "metadata": {
        "id": "UiZ2nNfNya8I"
      },
      "execution_count": 12,
      "outputs": []
    },
    {
      "cell_type": "code",
      "source": [
        "from keras.preprocessing.text import Tokenizer\n",
        "from keras.utils import pad_sequences\n",
        " \n",
        "max_words = 20000\n",
        "max_length = 500\n",
        " \n",
        "tokenizer = Tokenizer(num_words=max_words)\n",
        "tokenizer.fit_on_texts(x_filtered_stop_words)\n",
        "sequences = tokenizer.texts_to_sequences(x_filtered_stop_words)\n",
        "x_filtered_padded = pad_sequences(sequences, maxlen=max_length)"
      ],
      "metadata": {
        "id": "eRYjQwNNzmUK"
      },
      "execution_count": 14,
      "outputs": []
    },
    {
      "cell_type": "markdown",
      "source": [
        "Бинарная классификация с `Dense` в основе и выводом в виде одного нейрона с сигмоидной активацией"
      ],
      "metadata": {
        "id": "lydSMTh60Gvq"
      }
    },
    {
      "cell_type": "code",
      "source": [
        "from keras.models import Sequential\n",
        "from keras.layers import Dense, Flatten\n",
        "from keras.layers import Embedding\n",
        " \n",
        "model = Sequential() \n",
        "model.add(Embedding(max_words, 32, input_length=max_length)) \n",
        "model.add(Flatten())\n",
        "model.add(Dense(128, activation='relu'))\n",
        "model.add(Dense(1, activation='sigmoid'))\n",
        "model.compile(loss='binary_crossentropy', optimizer='adam', metrics=['accuracy']) \n",
        "model.summary()"
      ],
      "metadata": {
        "colab": {
          "base_uri": "https://localhost:8080/"
        },
        "id": "WOmN_vYMz_D9",
        "outputId": "44e2a43b-8ada-4f5c-db98-1a2e9ccdb2ac"
      },
      "execution_count": 15,
      "outputs": [
        {
          "output_type": "stream",
          "name": "stdout",
          "text": [
            "Model: \"sequential_2\"\n",
            "_________________________________________________________________\n",
            " Layer (type)                Output Shape              Param #   \n",
            "=================================================================\n",
            " embedding_2 (Embedding)     (None, 500, 32)           640000    \n",
            "                                                                 \n",
            " flatten_1 (Flatten)         (None, 16000)             0         \n",
            "                                                                 \n",
            " dense_3 (Dense)             (None, 128)               2048128   \n",
            "                                                                 \n",
            " dense_4 (Dense)             (None, 1)                 129       \n",
            "                                                                 \n",
            "=================================================================\n",
            "Total params: 2,688,257\n",
            "Trainable params: 2,688,257\n",
            "Non-trainable params: 0\n",
            "_________________________________________________________________\n"
          ]
        }
      ]
    },
    {
      "cell_type": "markdown",
      "source": [
        "Тренировка нейронки с использованием рандомных 20% для валидации"
      ],
      "metadata": {
        "id": "LeUvMcAC0WMH"
      }
    },
    {
      "cell_type": "code",
      "source": [
        "hist = model.fit(x_filtered_padded, y, validation_split=0.2, epochs=5, batch_size=20)"
      ],
      "metadata": {
        "colab": {
          "base_uri": "https://localhost:8080/"
        },
        "id": "ABSfbls30cbx",
        "outputId": "f115cab3-8c7f-43bc-e4df-3ea0b23b7bfc"
      },
      "execution_count": 16,
      "outputs": [
        {
          "output_type": "stream",
          "name": "stdout",
          "text": [
            "Epoch 1/5\n",
            "40/40 [==============================] - 5s 60ms/step - loss: 0.6777 - accuracy: 0.5995 - val_loss: 0.9431 - val_accuracy: 0.0000e+00\n",
            "Epoch 2/5\n",
            "40/40 [==============================] - 1s 37ms/step - loss: 0.4407 - accuracy: 0.7559 - val_loss: 0.4938 - val_accuracy: 0.8950\n",
            "Epoch 3/5\n",
            "40/40 [==============================] - 2s 41ms/step - loss: 0.0852 - accuracy: 0.9825 - val_loss: 0.0617 - val_accuracy: 0.9850\n",
            "Epoch 4/5\n",
            "40/40 [==============================] - 2s 53ms/step - loss: 0.0204 - accuracy: 0.9937 - val_loss: 0.2412 - val_accuracy: 0.8900\n",
            "Epoch 5/5\n",
            "40/40 [==============================] - 1s 37ms/step - loss: 0.0080 - accuracy: 1.0000 - val_loss: 0.2041 - val_accuracy: 0.9150\n"
          ]
        }
      ]
    },
    {
      "cell_type": "markdown",
      "source": [
        "Используем объект `hist`, возвращённый методом `fit`, отобразим в `plot`"
      ],
      "metadata": {
        "id": "WFYxE3r12WrD"
      }
    },
    {
      "cell_type": "code",
      "source": [
        "import seaborn as sns\n",
        "import matplotlib.pyplot as plt\n",
        "%matplotlib inline\n",
        "sns.set()\n",
        " \n",
        "acc = hist.history['accuracy']\n",
        "val = hist.history['val_accuracy']\n",
        "epochs = range(1, len(acc) + 1)\n",
        " \n",
        "plt.plot(epochs, acc, '-', label='Training accuracy')\n",
        "plt.plot(epochs, val, ':', label='Validation accuracy')\n",
        "plt.title('Training and Validation Accuracy')\n",
        "plt.xlabel('Epoch')\n",
        "plt.ylabel('Accuracy')\n",
        "plt.legend(loc='lower right')\n",
        "plt.plot()"
      ],
      "metadata": {
        "colab": {
          "base_uri": "https://localhost:8080/",
          "height": 318
        },
        "id": "C_dZZnT02fmF",
        "outputId": "00a4d5c1-0a46-4bb8-d297-71c2913aba27"
      },
      "execution_count": 17,
      "outputs": [
        {
          "output_type": "execute_result",
          "data": {
            "text/plain": [
              "[]"
            ]
          },
          "metadata": {},
          "execution_count": 17
        },
        {
          "output_type": "display_data",
          "data": {
            "text/plain": [
              "<Figure size 432x288 with 1 Axes>"
            ],
            "image/png": "[encoded data removed]"
          },
          "metadata": {}
        }
      ]
    },
    {
      "cell_type": "markdown",
      "source": [
        "Зажмурив глаза, надеемся, что `accuracy` ударило 90% где-то в серединке. Если нет, перетренировать нейронку."
      ],
      "metadata": {
        "id": "GNbjspzt2uco"
      }
    },
    {
      "cell_type": "markdown",
      "source": [
        "Це была `dense` нейронка, теперь попробуем `CNN`"
      ],
      "metadata": {
        "id": "cCZwqrXF26U1"
      }
    },
    {
      "cell_type": "code",
      "source": [
        "from keras.layers import Conv1D, MaxPooling1D, GlobalMaxPooling1D\n",
        " \n",
        "model = Sequential()\n",
        "model.add(Embedding(max_words, 32, input_length=max_length))\n",
        "model.add(Conv1D(32, 7, activation='relu'))\n",
        "model.add(MaxPooling1D(5))\n",
        "model.add(Conv1D(32, 7, activation='relu'))\n",
        "model.add(GlobalMaxPooling1D())\n",
        "model.add(Dense(1, activation='sigmoid'))\n",
        "model.compile(loss='binary_crossentropy', optimizer='adam', metrics=['accuracy'])\n",
        "model.summary()"
      ],
      "metadata": {
        "colab": {
          "base_uri": "https://localhost:8080/"
        },
        "id": "IfWzOAaC3Lxj",
        "outputId": "19cb5f1b-2f9f-492a-915f-aae322a78bf0"
      },
      "execution_count": 18,
      "outputs": [
        {
          "output_type": "stream",
          "name": "stdout",
          "text": [
            "Model: \"sequential_3\"\n",
            "_________________________________________________________________\n",
            " Layer (type)                Output Shape              Param #   \n",
            "=================================================================\n",
            " embedding_3 (Embedding)     (None, 500, 32)           640000    \n",
            "                                                                 \n",
            " conv1d_2 (Conv1D)           (None, 494, 32)           7200      \n",
            "                                                                 \n",
            " max_pooling1d_1 (MaxPooling  (None, 98, 32)           0         \n",
            " 1D)                                                             \n",
            "                                                                 \n",
            " conv1d_3 (Conv1D)           (None, 92, 32)            7200      \n",
            "                                                                 \n",
            " global_max_pooling1d_1 (Glo  (None, 32)               0         \n",
            " balMaxPooling1D)                                                \n",
            "                                                                 \n",
            " dense_5 (Dense)             (None, 1)                 33        \n",
            "                                                                 \n",
            "=================================================================\n",
            "Total params: 654,433\n",
            "Trainable params: 654,433\n",
            "Non-trainable params: 0\n",
            "_________________________________________________________________\n"
          ]
        }
      ]
    },
    {
      "cell_type": "code",
      "source": [
        "hist = model.fit(x_filtered_padded, y, validation_split=0.2, epochs=5, batch_size=20)"
      ],
      "metadata": {
        "colab": {
          "base_uri": "https://localhost:8080/"
        },
        "id": "PwERRE1L3TAf",
        "outputId": "917ec80c-70e8-431f-9658-ad2a5e232768"
      },
      "execution_count": 19,
      "outputs": [
        {
          "output_type": "stream",
          "name": "stdout",
          "text": [
            "Epoch 1/5\n",
            "40/40 [==============================] - 4s 69ms/step - loss: 0.6566 - accuracy: 0.6033 - val_loss: 0.9438 - val_accuracy: 0.0000e+00\n",
            "Epoch 2/5\n",
            "40/40 [==============================] - 3s 73ms/step - loss: 0.5081 - accuracy: 0.6558 - val_loss: 0.7380 - val_accuracy: 0.6650\n",
            "Epoch 3/5\n",
            "40/40 [==============================] - 2s 61ms/step - loss: 0.1987 - accuracy: 0.9737 - val_loss: 0.1998 - val_accuracy: 0.9800\n",
            "Epoch 4/5\n",
            "40/40 [==============================] - 1s 36ms/step - loss: 0.0429 - accuracy: 0.9887 - val_loss: 0.1256 - val_accuracy: 0.9750\n",
            "Epoch 5/5\n",
            "40/40 [==============================] - 1s 34ms/step - loss: 0.0260 - accuracy: 0.9937 - val_loss: 0.1054 - val_accuracy: 0.9750\n"
          ]
        }
      ]
    },
    {
      "cell_type": "code",
      "source": [
        "acc = hist.history['accuracy']\n",
        "val = hist.history['val_accuracy']\n",
        "epochs = range(1, len(acc) + 1)\n",
        " \n",
        "plt.plot(epochs, acc, '-', label='Training accuracy')\n",
        "plt.plot(epochs, val, ':', label='Validation accuracy')\n",
        "plt.title('Training and Validation Accuracy')\n",
        "plt.xlabel('Epoch')\n",
        "plt.ylabel('Accuracy')\n",
        "plt.legend(loc='lower right')\n",
        "plt.plot()"
      ],
      "metadata": {
        "colab": {
          "base_uri": "https://localhost:8080/",
          "height": 318
        },
        "id": "qBmwl3KB3YAX",
        "outputId": "ac72b2c7-e914-4629-911f-a34904c94c43"
      },
      "execution_count": 20,
      "outputs": [
        {
          "output_type": "execute_result",
          "data": {
            "text/plain": [
              "[]"
            ]
          },
          "metadata": {},
          "execution_count": 20
        },
        {
          "output_type": "display_data",
          "data": {
            "text/plain": [
              "<Figure size 432x288 with 1 Axes>"
            ],
            "image/png": "[encoded data removed]"
          },
          "metadata": {}
        }
      ]
    },
    {
      "cell_type": "code",
      "source": [
        "# тестанём\n",
        "cleaned_text = remove_stop_words('Can you attend a code review on Tuesday? Need to make sure the logic is rock solid.')\n",
        "sequence = tokenizer.texts_to_sequences([cleaned_text])\n",
        "padded_sequence = pad_sequences(sequence, maxlen=max_length)\n",
        "model.predict(padded_sequence)[0][0]\n"
      ],
      "metadata": {
        "colab": {
          "base_uri": "https://localhost:8080/"
        },
        "id": "ec4w06zX3odj",
        "outputId": "7cd244e8-7c71-4367-d33f-eaf80e3c203a"
      },
      "execution_count": 21,
      "outputs": [
        {
          "output_type": "stream",
          "name": "stdout",
          "text": [
            "1/1 [==============================] - 0s 143ms/step\n"
          ]
        },
        {
          "output_type": "execute_result",
          "data": {
            "text/plain": [
              "0.12815814"
            ]
          },
          "metadata": {},
          "execution_count": 21
        }
      ]
    },
    {
      "cell_type": "code",
      "source": [
        "cleaned_text = remove_stop_words('Why pay more for expensive meds when you can order them online and save $$$?')\n",
        "sequence = tokenizer.texts_to_sequences([cleaned_text])\n",
        "padded_sequence = pad_sequences(sequence, maxlen=max_length)\n",
        "model.predict(padded_sequence)[0][0]"
      ],
      "metadata": {
        "colab": {
          "base_uri": "https://localhost:8080/"
        },
        "id": "tDMaOuUF3v6p",
        "outputId": "8e19b00f-a096-4e48-de59-146925fe3353"
      },
      "execution_count": 22,
      "outputs": [
        {
          "output_type": "stream",
          "name": "stdout",
          "text": [
            "1/1 [==============================] - 0s 23ms/step\n"
          ]
        },
        {
          "output_type": "execute_result",
          "data": {
            "text/plain": [
              "0.66812575"
            ]
          },
          "metadata": {},
          "execution_count": 22
        }
      ]
    },
    {
      "cell_type": "markdown",
      "source": [
        "#### Ля, а чё теперь всё-время вручную токенизацией заниматься?"
      ],
      "metadata": {
        "id": "3oJ1krma4dgn"
      }
    },
    {
      "cell_type": "markdown",
      "source": [
        "Нет. Для таких делов есть специальный слой в керасе. Называется `TextVectorization` (https://www.tensorflow.org/api_docs/python/tf/keras/layers/TextVectorization)"
      ],
      "metadata": {
        "id": "aVLblz-t4n4R"
      }
    },
    {
      "cell_type": "code",
      "source": [
        "from keras.models import Sequential\n",
        "from keras.layers import Dense, Flatten, TextVectorization, InputLayer\n",
        "from keras.layers import Embedding\n",
        "import tensorflow as tf\n",
        " \n",
        "model = Sequential()\n",
        "model.add(InputLayer(input_shape=(1,), dtype=tf.string))\n",
        "model.add(TextVectorization(max_tokens=max_words, output_sequence_length=max_length))\n",
        "model.add(Embedding(max_words, 32, input_length=max_length))\n",
        "model.add(Flatten())\n",
        "model.add(Dense(128, activation='relu'))\n",
        "model.add(Dense(1, activation='sigmoid'))\n",
        "model.compile(loss='binary_crossentropy', optimizer='adam', metrics=['accuracy'])\n",
        "model.summary()"
      ],
      "metadata": {
        "colab": {
          "base_uri": "https://localhost:8080/"
        },
        "id": "QyY6saUg4yCz",
        "outputId": "d9dc908d-f0ef-45d5-aa77-ca313695893e"
      },
      "execution_count": 23,
      "outputs": [
        {
          "output_type": "stream",
          "name": "stdout",
          "text": [
            "Model: \"sequential_4\"\n",
            "_________________________________________________________________\n",
            " Layer (type)                Output Shape              Param #   \n",
            "=================================================================\n",
            " text_vectorization (TextVec  (None, 500)              0         \n",
            " torization)                                                     \n",
            "                                                                 \n",
            " embedding_4 (Embedding)     (None, 500, 32)           640000    \n",
            "                                                                 \n",
            " flatten_2 (Flatten)         (None, 16000)             0         \n",
            "                                                                 \n",
            " dense_6 (Dense)             (None, 128)               2048128   \n",
            "                                                                 \n",
            " dense_7 (Dense)             (None, 1)                 129       \n",
            "                                                                 \n",
            "=================================================================\n",
            "Total params: 2,688,257\n",
            "Trainable params: 2,688,257\n",
            "Non-trainable params: 0\n",
            "_________________________________________________________________\n"
          ]
        }
      ]
    },
    {
      "cell_type": "markdown",
      "source": [
        "Обращаем внимание, что входной слой теперь реально `InputLayer` и он настроен на приём строк. Для того, чтобы подогнать `TextVectorization` для входных данных, надо ткнуть метод `adapt`"
      ],
      "metadata": {
        "id": "8oiEG5Ly4-YS"
      }
    },
    {
      "cell_type": "code",
      "source": [
        "x_filtered_stop_words"
      ],
      "metadata": {
        "colab": {
          "base_uri": "https://localhost:8080/"
        },
        "id": "ysUHtjvGJUIx",
        "outputId": "09032ce2-577d-4cd1-f8d3-b365c1027a11"
      },
      "execution_count": 24,
      "outputs": [
        {
          "output_type": "execute_result",
          "data": {
            "text/plain": [
              "0      key issues going forwarda year end reviews rep...\n",
              "1      congrats contratulations execution central mai...\n",
              "2      key issues going forwardall control set work g...\n",
              "3      epmi files protest entergy transcoattached fil...\n",
              "4      california power please contact kristin walsh ...\n",
              "                             ...                        \n",
              "995    somebody nort offlce pro offlce ado phot shop ...\n",
              "996    utf present day course utf reduce mass product...\n",
              "997    sell regalis affordable pricehi regalis also k...\n",
              "998    email exclusive complimentary satellite dish i...\n",
              "999    unfeigned alilum ciall ambiien aagrra xaanax c...\n",
              "Length: 999, dtype: object"
            ]
          },
          "metadata": {},
          "execution_count": 24
        }
      ]
    },
    {
      "cell_type": "code",
      "source": [
        "model.layers[0].adapt(x_filtered_stop_words)"
      ],
      "metadata": {
        "id": "V_Jtz_1y5Oem"
      },
      "execution_count": 25,
      "outputs": []
    },
    {
      "cell_type": "code",
      "source": [
        "model.predict(['Why pay more for expensive meds when you can order them online and save $$$?'])[0][0]"
      ],
      "metadata": {
        "id": "DeqYWPCf6ZEI",
        "outputId": "48710b63-9706-41f8-a438-076df4c6f8cf",
        "colab": {
          "base_uri": "https://localhost:8080/"
        }
      },
      "execution_count": 26,
      "outputs": [
        {
          "output_type": "stream",
          "name": "stdout",
          "text": [
            "1/1 [==============================] - 0s 158ms/step\n"
          ]
        },
        {
          "output_type": "execute_result",
          "data": {
            "text/plain": [
              "0.49571022"
            ]
          },
          "metadata": {},
          "execution_count": 26
        }
      ]
    }
  ]
}